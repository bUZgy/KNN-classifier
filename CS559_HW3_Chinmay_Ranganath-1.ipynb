{
  "nbformat": 4,
  "nbformat_minor": 0,
  "metadata": {
    "colab": {
      "name": "CS559 HW3 Chinmay Ranganath.ipynb",
      "provenance": [],
      "collapsed_sections": []
    },
    "kernelspec": {
      "name": "python3",
      "display_name": "Python 3"
    },
    "language_info": {
      "name": "python"
    }
  },
  "cells": [
    {
      "cell_type": "code",
      "metadata": {
        "id": "FWk6ZEOQ3m1f"
      },
      "source": [
        "import numpy as np\n",
        "import pandas as pd\n",
        "from sklearn.neighbors import KNeighborsClassifier\n",
        "from sklearn import metrics\n",
        "from sklearn.metrics import confusion_matrix"
      ],
      "execution_count": 1,
      "outputs": []
    },
    {
      "cell_type": "code",
      "metadata": {
        "id": "exstO6uN8rPI"
      },
      "source": [
        "train = pd.read_csv('drive/My Drive/Colab Notebooks/train.csv')\n",
        "test = pd.read_csv('drive/My Drive/Colab Notebooks/test.csv')"
      ],
      "execution_count": 2,
      "outputs": []
    },
    {
      "cell_type": "code",
      "metadata": {
        "id": "dmEoCBwL83dF"
      },
      "source": [
        "x_train = train.drop('class', axis=1)\n",
        "y_train = train['class']\n",
        "x_test = test.drop('actual-class', axis=1)\n",
        "x_test = x_test.drop('ID', axis=1)\n",
        "y_test = test['actual-class']"
      ],
      "execution_count": 3,
      "outputs": []
    },
    {
      "cell_type": "code",
      "metadata": {
        "id": "NF1xQH6m813e"
      },
      "source": [
        "\n",
        "model = KNeighborsClassifier(n_neighbors=3, metric='manhattan')\n",
        "model.fit(x_train, y_train)\n",
        "y_pred = model.predict(x_test)\n",
        "man_rec = metrics.recall_score(y_test, y_pred)\n",
        "man_acc = metrics.accuracy_score(y_test, y_pred)\n",
        "man_prec = metrics.precision_score(y_test, y_pred)\n",
        "man_f1 = metrics.f1_score(y_test, y_pred)\n",
        "pred_prob = model.predict_proba(x_test)"
      ],
      "execution_count": 15,
      "outputs": []
    },
    {
      "cell_type": "code",
      "metadata": {
        "colab": {
          "base_uri": "https://localhost:8080/"
        },
        "id": "L3jwMo_-ANAA",
        "outputId": "9ceb04f4-d3cd-4742-f95e-c67d5ee38f6e"
      },
      "source": [
        "print(man_rec)\n",
        "print(man_acc)\n",
        "print(man_prec)\n",
        "print(man_f1)\n",
        "print(pred_prob)"
      ],
      "execution_count": 16,
      "outputs": [
        {
          "output_type": "stream",
          "name": "stdout",
          "text": [
            "1.0\n",
            "1.0\n",
            "1.0\n",
            "1.0\n",
            "[[0.         1.        ]\n",
            " [0.66666667 0.33333333]\n",
            " [1.         0.        ]\n",
            " [0.         1.        ]\n",
            " [1.         0.        ]\n",
            " [0.         1.        ]\n",
            " [1.         0.        ]\n",
            " [1.         0.        ]\n",
            " [1.         0.        ]\n",
            " [1.         0.        ]\n",
            " [0.         1.        ]\n",
            " [1.         0.        ]\n",
            " [1.         0.        ]\n",
            " [1.         0.        ]\n",
            " [0.66666667 0.33333333]\n",
            " [0.         1.        ]\n",
            " [0.         1.        ]\n",
            " [1.         0.        ]\n",
            " [1.         0.        ]\n",
            " [1.         0.        ]]\n"
          ]
        }
      ]
    },
    {
      "cell_type": "code",
      "metadata": {
        "id": "r-bPRVrSBQbh"
      },
      "source": [
        "\n",
        "model1 = KNeighborsClassifier(n_neighbors=3, weights='distance', metric='euclidean')\n",
        "model1.fit(x_train, y_train)\n",
        "euc_y_pred = model1.predict(x_test)\n",
        "euc_rec = metrics.recall_score(y_test, euc_y_pred)\n",
        "euc_acc = metrics.accuracy_score(y_test, euc_y_pred)\n",
        "euc_prec = metrics.precision_score(y_test, euc_y_pred)\n",
        "euc_f1 = metrics.f1_score(y_test, euc_y_pred)\n",
        "pred_prob = model1.predict_proba(x_test)"
      ],
      "execution_count": 13,
      "outputs": []
    },
    {
      "cell_type": "code",
      "metadata": {
        "colab": {
          "base_uri": "https://localhost:8080/"
        },
        "id": "NRKy06vNBRYa",
        "outputId": "c0d0dda5-7762-433e-db6c-e4e92ab372fa"
      },
      "source": [
        "print(euc_rec)\n",
        "print(euc_acc)\n",
        "print(euc_prec)\n",
        "print(euc_f1)\n",
        "print(pred_prob)"
      ],
      "execution_count": 14,
      "outputs": [
        {
          "output_type": "stream",
          "name": "stdout",
          "text": [
            "1.0\n",
            "0.95\n",
            "0.8571428571428571\n",
            "0.923076923076923\n",
            "[[0.         1.        ]\n",
            " [0.67384254 0.32615746]\n",
            " [1.         0.        ]\n",
            " [0.         1.        ]\n",
            " [1.         0.        ]\n",
            " [0.         1.        ]\n",
            " [1.         0.        ]\n",
            " [1.         0.        ]\n",
            " [1.         0.        ]\n",
            " [1.         0.        ]\n",
            " [0.         1.        ]\n",
            " [1.         0.        ]\n",
            " [1.         0.        ]\n",
            " [1.         0.        ]\n",
            " [0.33961354 0.66038646]\n",
            " [0.         1.        ]\n",
            " [0.         1.        ]\n",
            " [1.         0.        ]\n",
            " [1.         0.        ]\n",
            " [1.         0.        ]]\n"
          ]
        }
      ]
    },
    {
      "cell_type": "code",
      "metadata": {
        "colab": {
          "base_uri": "https://localhost:8080/"
        },
        "id": "O8APpWmXzhm1",
        "outputId": "b9e38a1f-24b1-4695-87bb-d5d0bb1369a1"
      },
      "source": [
        "print(y_pred)\n",
        "print(euc_y_pred)"
      ],
      "execution_count": 10,
      "outputs": [
        {
          "output_type": "stream",
          "name": "stdout",
          "text": [
            "[1 0 0 1 0 1 0 0 0 0 1 0 0 0 0 1 1 0 0 0]\n",
            "[1 0 0 1 0 1 0 0 0 0 1 0 0 0 1 1 1 0 0 0]\n"
          ]
        }
      ]
    },
    {
      "cell_type": "code",
      "metadata": {
        "colab": {
          "base_uri": "https://localhost:8080/"
        },
        "id": "Nop8lp13F5eu",
        "outputId": "12ec5010-13f4-499a-9b26-39140eb3db46"
      },
      "source": [
        "print('Model using Manhattan distance:')\n",
        "confusion_matrix(y_test, y_pred)"
      ],
      "execution_count": 8,
      "outputs": [
        {
          "output_type": "stream",
          "name": "stdout",
          "text": [
            "Model using Manhattan distance:\n"
          ]
        },
        {
          "output_type": "execute_result",
          "data": {
            "text/plain": [
              "array([[14,  0],\n",
              "       [ 0,  6]])"
            ]
          },
          "metadata": {},
          "execution_count": 8
        }
      ]
    },
    {
      "cell_type": "code",
      "metadata": {
        "colab": {
          "base_uri": "https://localhost:8080/"
        },
        "id": "axOAFsWiBSU5",
        "outputId": "080b5480-0531-4595-8fbb-3afa1783553f"
      },
      "source": [
        "print('Model using Euclidean distance:')\n",
        "confusion_matrix(y_test, euc_y_pred)"
      ],
      "execution_count": 9,
      "outputs": [
        {
          "output_type": "stream",
          "name": "stdout",
          "text": [
            "Model using Euclidean distance:\n"
          ]
        },
        {
          "output_type": "execute_result",
          "data": {
            "text/plain": [
              "array([[13,  1],\n",
              "       [ 0,  6]])"
            ]
          },
          "metadata": {},
          "execution_count": 9
        }
      ]
    },
    {
      "cell_type": "markdown",
      "metadata": {
        "id": "edmsJJiGHHS8"
      },
      "source": [
        "Result: We find that the model using Manhattan distance performs better than the model using Euclidean distance."
      ]
    }
  ]
}